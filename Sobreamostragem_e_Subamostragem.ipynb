{
  "nbformat": 4,
  "nbformat_minor": 0,
  "metadata": {
    "colab": {
      "provenance": [],
      "authorship_tag": "ABX9TyPw8yUUo5HV8Y7hB68xduPt",
      "include_colab_link": true
    },
    "kernelspec": {
      "name": "python3",
      "display_name": "Python 3"
    },
    "language_info": {
      "name": "python"
    }
  },
  "cells": [
    {
      "cell_type": "markdown",
      "metadata": {
        "id": "view-in-github",
        "colab_type": "text"
      },
      "source": [
        "<a href=\"https://colab.research.google.com/github/IsadoraPrevitalle/Sobreamostragem-Subamostragem/blob/main/Sobreamostragem_e_Subamostragem.ipynb\" target=\"_parent\"><img src=\"https://colab.research.google.com/assets/colab-badge.svg\" alt=\"Open In Colab\"/></a>"
      ]
    },
    {
      "cell_type": "markdown",
      "source": [
        "# Implementando técnicas de Sobreamostragem e Subamostragem"
      ],
      "metadata": {
        "id": "AuyiJdC0U5vO"
      }
    },
    {
      "cell_type": "markdown",
      "source": [
        "Teste de Sobreamostragem sem o SMOTE em uma base de dados gerada de forma aleatória que contém: 1000 amostras, 10 features, 5 caracteristicas, 2 classes, 90% das amostras pertencem a classe 0 e 10% a classe 1"
      ],
      "metadata": {
        "id": "lM_P_iGHUkue"
      }
    },
    {
      "cell_type": "code",
      "source": [
        "from sklearn.datasets import make_classification\n",
        "from sklearn.model_selection import train_test_split\n",
        "from sklearn.ensemble import RandomForestClassifier\n",
        "from sklearn.metrics import classification_report\n",
        "\n",
        "#Conjunto de dados gerado de forma aleatória que contém: 1000 amostras, 10 features, 5 caracteristicas, 2 classes, 90% das amostras pertencem a classe 0 e 10% a classe 1\n",
        "X, y = make_classification(n_samples=1000, n_features=10, n_informative=5,n_classes=2, weights=[0.9, 0.1], random_state=42)\n",
        "\n",
        "X_train, X_test, y_train, y_test = train_test_split(X, y, test_size=0.3, random_state=42)\n",
        "\n",
        "# Treinando o modelo com o conjunto de dados original desbalanceado\n",
        "clf = RandomForestClassifier(random_state=42)\n",
        "clf.fit(X_train, y_train)\n",
        "\n",
        "# Avaliando o modelo\n",
        "y_pred = clf.predict(X_test)\n",
        "print(\"Resultados sem SMOTE:\")\n",
        "print(classification_report(y_test, y_pred))"
      ],
      "metadata": {
        "colab": {
          "base_uri": "https://localhost:8080/"
        },
        "id": "Q0MO_j14UfPq",
        "outputId": "64f3f953-a6ad-441d-99be-6d55c2a9cc4f"
      },
      "execution_count": null,
      "outputs": [
        {
          "output_type": "stream",
          "name": "stdout",
          "text": [
            "Resultados sem SMOTE:\n",
            "              precision    recall  f1-score   support\n",
            "\n",
            "           0       0.95      1.00      0.97       268\n",
            "           1       1.00      0.53      0.69        32\n",
            "\n",
            "    accuracy                           0.95       300\n",
            "   macro avg       0.97      0.77      0.83       300\n",
            "weighted avg       0.95      0.95      0.94       300\n",
            "\n"
          ]
        }
      ]
    },
    {
      "cell_type": "markdown",
      "source": [
        "Teste de Sobreamostragem com o SMOTE em uma base de dados gerada de forma aleatória que contém: 1000 amostras, 10 features, 5 caracteristicas, 2 classes, 90% das amostras pertencem a classe 0 e 10% a classe 1"
      ],
      "metadata": {
        "id": "e1t1V5-SU0GS"
      }
    },
    {
      "cell_type": "code",
      "execution_count": null,
      "metadata": {
        "colab": {
          "base_uri": "https://localhost:8080/"
        },
        "id": "btcEJS9dIurd",
        "outputId": "4d156430-c7b9-43e4-a427-acc712120f56"
      },
      "outputs": [
        {
          "output_type": "stream",
          "name": "stdout",
          "text": [
            "Resultados com SMOTE:\n",
            "              precision    recall  f1-score   support\n",
            "\n",
            "           0       0.97      0.99      0.98       268\n",
            "           1       0.89      0.78      0.83        32\n",
            "\n",
            "    accuracy                           0.97       300\n",
            "   macro avg       0.93      0.89      0.91       300\n",
            "weighted avg       0.97      0.97      0.97       300\n",
            "\n"
          ]
        }
      ],
      "source": [
        "#Conjunto de dados gerado de forma aleatória que contém: 1000 amostras, 10 features, 5 caracteristicas, 2 classes, 90% das amostras pertencem a classe 0 e 10% a classe 1\n",
        "X, y = make_classification(n_samples=1000, n_features=10, n_informative=5,n_classes=2, weights=[0.9, 0.1], random_state=42)\n",
        "\n",
        "# Treino e Teste\n",
        "X_train, X_test, y_train, y_test = train_test_split(X, y, test_size=0.3, random_state=42)\n",
        "\n",
        "# Aplicando SMOTE\n",
        "smote = SMOTE(random_state=42)\n",
        "X_smote, y_smote = smote.fit_resample(X_train, y_train)\n",
        "\n",
        "# Treinando o modelo com dados sobreamostrados\n",
        "clf_smote = RandomForestClassifier(random_state=42)\n",
        "clf_smote.fit(X_smote, y_smote)\n",
        "\n",
        "# Avaliando o modelo\n",
        "y_pred_smote = clf_smote.predict(X_test)\n",
        "print(\"Resultados com SMOTE:\")\n",
        "print(classification_report(y_test, y_pred_smote))"
      ]
    },
    {
      "cell_type": "code",
      "source": [
        "from imblearn.over_sampling import ADASYN\n",
        "\n",
        "#Conjunto de dados gerado de forma aleatória que contém: 1000 amostras, 10 features, 5 caracteristicas, 2 classes, 90% das amostras pertencem a classe 0 e 10% a classe 1\n",
        "X, y = make_classification(n_samples=1000, n_features=10, n_informative=5,n_classes=2, weights=[0.9, 0.1], random_state=42)\n",
        "\n",
        "X_train, X_test, y_train, y_test = train_test_split(X, y, test_size=0.2, random_state=42)\n",
        "\n",
        "# Aplicando ADASYN\n",
        "adasyn = ADASYN(random_state=42)\n",
        "X_adasyn, y_adasyn = adasyn.fit_resample(X_train, y_train)\n",
        "\n",
        "# Treinando o modelo com dados gerados pelo ADASYN\n",
        "clf_adasyn = RandomForestClassifier(random_state=42)\n",
        "clf_adasyn.fit(X_adasyn, y_adasyn)\n",
        "\n",
        "# Avaliando o modelo\n",
        "y_pred_adasyn = clf_adasyn.predict(X_test)\n",
        "print(\"Resultados com ADASYN:\")\n",
        "print(classification_report(y_test, y_pred_adasyn))"
      ],
      "metadata": {
        "colab": {
          "base_uri": "https://localhost:8080/"
        },
        "id": "0q5eVEkdXqpQ",
        "outputId": "d7c2e6ca-0e01-4269-a10b-8bea78b01a95"
      },
      "execution_count": null,
      "outputs": [
        {
          "output_type": "stream",
          "name": "stdout",
          "text": [
            "Resultados com ADASYN:\n",
            "              precision    recall  f1-score   support\n",
            "\n",
            "           0       0.97      0.99      0.98       179\n",
            "           1       0.94      0.76      0.84        21\n",
            "\n",
            "    accuracy                           0.97       200\n",
            "   macro avg       0.96      0.88      0.91       200\n",
            "weighted avg       0.97      0.97      0.97       200\n",
            "\n"
          ]
        }
      ]
    },
    {
      "cell_type": "code",
      "source": [
        "from sklearn.datasets import make_classification\n",
        "from sklearn.model_selection import train_test_split\n",
        "from sklearn.ensemble import RandomForestClassifier\n",
        "from sklearn.metrics import classification_report\n",
        "from imblearn.under_sampling import RandomUnderSampler\n",
        "from imblearn.under_sampling import ClusterCentroids\n",
        "\n",
        "# Gerando conjunto de dados com 1000 amostras, 10 features, 5 informativas, 2 classes, e 90% da classe 0\n",
        "X, y = make_classification(n_samples=1000, n_features=10, n_informative=5, n_classes=2, weights=[0.9, 0.1], random_state=42)\n",
        "\n",
        "X_train, X_test, y_train, y_test = train_test_split(X, y, test_size=0.2, random_state=42)\n",
        "\n",
        "### Random Under-sampling\n",
        "rus = RandomUnderSampler(random_state=42)\n",
        "X_rus, y_rus = rus.fit_resample(X_train, y_train)\n",
        "\n",
        "# Treinando o modelo com Random Under-sampling\n",
        "clf_rus = RandomForestClassifier(random_state=42)\n",
        "clf_rus.fit(X_rus, y_rus)\n",
        "\n",
        "# Avaliando o modelo\n",
        "y_pred_rus = clf_rus.predict(X_test)\n",
        "print(\"Resultados com Random Under-sampling:\")\n",
        "print(classification_report(y_test, y_pred_rus))"
      ],
      "metadata": {
        "colab": {
          "base_uri": "https://localhost:8080/"
        },
        "id": "6hoytdomoPNB",
        "outputId": "4eb2555e-3134-488f-bdcb-234618cdc4a2"
      },
      "execution_count": null,
      "outputs": [
        {
          "output_type": "stream",
          "name": "stdout",
          "text": [
            "Resultados com Random Under-sampling:\n",
            "              precision    recall  f1-score   support\n",
            "\n",
            "           0       0.99      0.92      0.95       179\n",
            "           1       0.58      0.90      0.70        21\n",
            "\n",
            "    accuracy                           0.92       200\n",
            "   macro avg       0.78      0.91      0.83       200\n",
            "weighted avg       0.94      0.92      0.93       200\n",
            "\n"
          ]
        }
      ]
    },
    {
      "cell_type": "code",
      "source": [
        "# Gerando conjunto de dados com 1000 amostras, 10 features, 5 informativas, 2 classes, e 90% da classe 0\n",
        "X, y = make_classification(n_samples=1000, n_features=10, n_informative=5, n_classes=2, weights=[0.9, 0.1], random_state=42)\n",
        "\n",
        "X_train, X_test, y_train, y_test = train_test_split(X, y, test_size=0.2, random_state=42)\n",
        "\n",
        "### Cluster-based Under-sampling\n",
        "cc = ClusterCentroids(random_state=42)\n",
        "X_cc, y_cc = cc.fit_resample(X_train, y_train)\n",
        "\n",
        "# Treinando o modelo com Cluster-based Under-sampling\n",
        "clf_cc = RandomForestClassifier(random_state=42)\n",
        "clf_cc.fit(X_cc, y_cc)\n",
        "\n",
        "# Avaliando o modelo\n",
        "y_pred_cc = clf_cc.predict(X_test)\n",
        "print(\"Resultados com Cluster-based Under-sampling:\")\n",
        "print(classification_report(y_test, y_pred_cc))"
      ],
      "metadata": {
        "colab": {
          "base_uri": "https://localhost:8080/"
        },
        "id": "ucrV0LdrosB0",
        "outputId": "e11c5a2e-f6ee-488e-cb9f-41b7cbb663b6"
      },
      "execution_count": null,
      "outputs": [
        {
          "output_type": "stream",
          "name": "stderr",
          "text": [
            "/usr/local/lib/python3.10/dist-packages/sklearn/cluster/_kmeans.py:1416: FutureWarning: The default value of `n_init` will change from 10 to 'auto' in 1.4. Set the value of `n_init` explicitly to suppress the warning\n",
            "  super()._check_params_vs_input(X, default_n_init=10)\n"
          ]
        },
        {
          "output_type": "stream",
          "name": "stdout",
          "text": [
            "Resultados com Cluster-based Under-sampling:\n",
            "              precision    recall  f1-score   support\n",
            "\n",
            "           0       0.99      0.94      0.97       179\n",
            "           1       0.65      0.95      0.77        21\n",
            "\n",
            "    accuracy                           0.94       200\n",
            "   macro avg       0.82      0.95      0.87       200\n",
            "weighted avg       0.96      0.94      0.94       200\n",
            "\n"
          ]
        }
      ]
    }
  ]
}